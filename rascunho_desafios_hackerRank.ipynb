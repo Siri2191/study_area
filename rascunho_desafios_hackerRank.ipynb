{
  "nbformat": 4,
  "nbformat_minor": 0,
  "metadata": {
    "colab": {
      "provenance": [],
      "authorship_tag": "ABX9TyNV3jYL3I12ZpyK4vpuwDel",
      "include_colab_link": true
    },
    "kernelspec": {
      "name": "python3",
      "display_name": "Python 3"
    },
    "language_info": {
      "name": "python"
    }
  },
  "cells": [
    {
      "cell_type": "markdown",
      "metadata": {
        "id": "view-in-github",
        "colab_type": "text"
      },
      "source": [
        "<a href=\"https://colab.research.google.com/github/Siri2191/study_area/blob/main/rascunho_desafios_hackerRank.ipynb\" target=\"_parent\"><img src=\"https://colab.research.google.com/assets/colab-badge.svg\" alt=\"Open In Colab\"/></a>"
      ]
    },
    {
      "cell_type": "markdown",
      "source": [
        "<h1> Alphabet Rangoli </h1>\n",
        "\n",
        "---"
      ],
      "metadata": {
        "id": "5U1mAIBZVICT"
      }
    },
    {
      "cell_type": "code",
      "source": [
        "import string\n",
        "def print_rangoli(size):\n",
        "  # pegando as letras do alfabeto\n",
        "  letras = list(string.ascii_lowercase)\n",
        "  # colocando na ordem inversa\n",
        "  \n",
        "\n",
        "  # quantidade de linas e colunas\n",
        "  n =  size + (size-1)  # linhas\n",
        "  s = n + (n+1) # colunas\n",
        "  m = int((n+1)/2)\n",
        "\n",
        "  for i in range(size-1,0,-1): # faz o range na ordem inversa\n",
        "    linha = '-'.join(letras[size-1:i:-1]+letras[i:size]) # acrescenta letras por linha \n",
        "    print(linha.center(s,'-')) # a função center preencha os arredores do comprimento da linha com um tipo de caractere\n",
        "\n",
        "  for i in range(size):\n",
        "    linha = '-'.join(letras[size-1:i:-1]+letras[i:size])\n",
        "    print( linha.center(s,'-')) \n",
        "\n"
      ],
      "metadata": {
        "id": "deZ0nqvqKpWk"
      },
      "execution_count": null,
      "outputs": []
    },
    {
      "cell_type": "code",
      "source": [
        "print_rangoli(10)"
      ],
      "metadata": {
        "colab": {
          "base_uri": "https://localhost:8080/"
        },
        "id": "6SxBN0toYdzI",
        "outputId": "9dd1352b-863c-40ec-98cd-81c48700544e"
      },
      "execution_count": null,
      "outputs": [
        {
          "output_type": "stream",
          "name": "stdout",
          "text": [
            "-------------------j-------------------\n",
            "-----------------j-i-j-----------------\n",
            "---------------j-i-h-i-j---------------\n",
            "-------------j-i-h-g-h-i-j-------------\n",
            "-----------j-i-h-g-f-g-h-i-j-----------\n",
            "---------j-i-h-g-f-e-f-g-h-i-j---------\n",
            "-------j-i-h-g-f-e-d-e-f-g-h-i-j-------\n",
            "-----j-i-h-g-f-e-d-c-d-e-f-g-h-i-j-----\n",
            "---j-i-h-g-f-e-d-c-b-c-d-e-f-g-h-i-j---\n",
            "-j-i-h-g-f-e-d-c-b-a-b-c-d-e-f-g-h-i-j-\n",
            "---j-i-h-g-f-e-d-c-b-c-d-e-f-g-h-i-j---\n",
            "-----j-i-h-g-f-e-d-c-d-e-f-g-h-i-j-----\n",
            "-------j-i-h-g-f-e-d-e-f-g-h-i-j-------\n",
            "---------j-i-h-g-f-e-f-g-h-i-j---------\n",
            "-----------j-i-h-g-f-g-h-i-j-----------\n",
            "-------------j-i-h-g-h-i-j-------------\n",
            "---------------j-i-h-i-j---------------\n",
            "-----------------j-i-j-----------------\n",
            "-------------------j-------------------\n"
          ]
        }
      ]
    },
    {
      "cell_type": "code",
      "source": [
        "def print_rangoli_2(size):\n",
        "    n = size\n",
        "    let = list(map(chr,range(97,123)))\n",
        "    x = let[n-1::-1]+let[1:n]\n",
        "    m = len('-'.join(x))\n",
        "    for i in range(1,n):\n",
        "        print('-'.join(let[n-1:n-i:-1]+let[n-i:n]).center(m,'-'))\n",
        "    for i in range(n,0,-1):\n",
        "        print('-'.join(let[n-1:n-i:-1]+let[n-i:n]).center(m,'-'))"
      ],
      "metadata": {
        "id": "3qGX5hmznnKO"
      },
      "execution_count": 15,
      "outputs": []
    },
    {
      "cell_type": "code",
      "source": [
        "print_rangoli_2(3)"
      ],
      "metadata": {
        "colab": {
          "base_uri": "https://localhost:8080/"
        },
        "id": "IU9oUudTlQBH",
        "outputId": "957d2aa8-d48b-446d-85da-6bd699aa7720"
      },
      "execution_count": 16,
      "outputs": [
        {
          "output_type": "stream",
          "name": "stdout",
          "text": [
            "----c----\n",
            "--c-b-c--\n",
            "c-b-a-b-c\n",
            "--c-b-c--\n",
            "----c----\n"
          ]
        }
      ]
    },
    {
      "cell_type": "code",
      "source": [],
      "metadata": {
        "id": "1JWWi38ZoJvw"
      },
      "execution_count": 14,
      "outputs": []
    }
  ]
}