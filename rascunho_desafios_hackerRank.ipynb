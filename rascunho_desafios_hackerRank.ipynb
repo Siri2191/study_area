{
  "nbformat": 4,
  "nbformat_minor": 0,
  "metadata": {
    "colab": {
      "provenance": [],
      "authorship_tag": "ABX9TyNVJhK428oEKG9JQvzAIaaL",
      "include_colab_link": true
    },
    "kernelspec": {
      "name": "python3",
      "display_name": "Python 3"
    },
    "language_info": {
      "name": "python"
    }
  },
  "cells": [
    {
      "cell_type": "markdown",
      "metadata": {
        "id": "view-in-github",
        "colab_type": "text"
      },
      "source": [
        "<a href=\"https://colab.research.google.com/github/Siri2191/study_area/blob/main/rascunho_desafios_hackerRank.ipynb\" target=\"_parent\"><img src=\"https://colab.research.google.com/assets/colab-badge.svg\" alt=\"Open In Colab\"/></a>"
      ]
    },
    {
      "cell_type": "markdown",
      "source": [
        "<h1> Alphabet Rangoli </h1>\n",
        "\n",
        "---"
      ],
      "metadata": {
        "id": "5U1mAIBZVICT"
      }
    },
    {
      "cell_type": "code",
      "source": [
        "def print_rangoli(size):\n",
        "    \n",
        "  n = size + (size - 1)\n",
        "  s = n + (n-1)\n",
        "  centro = (s+1)/2\n",
        "  for i in range(1,n+1):  \n",
        "    for j in range(1,s+1):\n",
        "      if j == s:\n",
        "        print('-\\n', end='')\n",
        "      elif j == centro:\n",
        "        print('*', end='')\n",
        "      else:\n",
        "        print('-',end='')\n",
        "  \n",
        "  return "
      ],
      "metadata": {
        "id": "EtqYSzu8YDbC"
      },
      "execution_count": 74,
      "outputs": []
    },
    {
      "cell_type": "code",
      "source": [
        "print_rangoli(5)"
      ],
      "metadata": {
        "colab": {
          "base_uri": "https://localhost:8080/"
        },
        "id": "5ofx_ZMrYJyk",
        "outputId": "255b0b9d-4458-4e86-c884-dd57792106a8"
      },
      "execution_count": 76,
      "outputs": [
        {
          "output_type": "stream",
          "name": "stdout",
          "text": [
            "--------*--------\n",
            "--------*--------\n",
            "--------*--------\n",
            "--------*--------\n",
            "--------*--------\n",
            "--------*--------\n",
            "--------*--------\n",
            "--------*--------\n",
            "--------*--------\n"
          ]
        }
      ]
    },
    {
      "cell_type": "code",
      "source": [],
      "metadata": {
        "colab": {
          "base_uri": "https://localhost:8080/"
        },
        "id": "9PFEbO1gYOaL",
        "outputId": "9de860d1-d200-418e-c20c-c513ee8d451c"
      },
      "execution_count": 54,
      "outputs": [
        {
          "output_type": "stream",
          "name": "stdout",
          "text": [
            "1\n",
            "2\n",
            "3\n",
            "4\n"
          ]
        }
      ]
    },
    {
      "cell_type": "code",
      "source": [],
      "metadata": {
        "id": "deZ0nqvqKpWk"
      },
      "execution_count": null,
      "outputs": []
    }
  ]
}