{
  "nbformat": 4,
  "nbformat_minor": 0,
  "metadata": {
    "colab": {
      "provenance": [],
      "authorship_tag": "ABX9TyPNg5fgd4f+NdyAMrURhaSx",
      "include_colab_link": true
    },
    "kernelspec": {
      "name": "python3",
      "display_name": "Python 3"
    },
    "language_info": {
      "name": "python"
    }
  },
  "cells": [
    {
      "cell_type": "markdown",
      "metadata": {
        "id": "view-in-github",
        "colab_type": "text"
      },
      "source": [
        "<a href=\"https://colab.research.google.com/github/Siri2191/study_area/blob/main/rascunho_desafios_hackerRank.ipynb\" target=\"_parent\"><img src=\"https://colab.research.google.com/assets/colab-badge.svg\" alt=\"Open In Colab\"/></a>"
      ]
    },
    {
      "cell_type": "markdown",
      "source": [
        "<h1> Alphabet Rangoli </h1>\n",
        "\n",
        "---"
      ],
      "metadata": {
        "id": "5U1mAIBZVICT"
      }
    },
    {
      "cell_type": "code",
      "source": [
        "import string\n",
        "def print_rangoli(size):\n",
        "  # pegando as letras do alfabeto\n",
        "  letras = list(string.ascii_lowercase)\n",
        "  # colocando na ordem inversa\n",
        "  \n",
        "\n",
        "  # quantidade de linas e colunas\n",
        "  n =  size + (size-1)  # linhas\n",
        "  s = n + (n+1) # colunas\n",
        "  m = int((n+1)/2)\n",
        "\n",
        "  for i in range(size-1,0,-1): # faz o range na ordem inversa\n",
        "    linha = '-'.join(letras[size-1:i:-1]+letras[i:size]) # acrescenta letras por linha \n",
        "    print(linha.center(s,'-')) # a função center preencha os arredores do comprimento da linha com um tipo de caractere\n",
        "\n",
        "  for i in range(size):\n",
        "    linha = '-'.join(letras[size-1:i:-1]+letras[i:size])\n",
        "    print( linha.center(s,'-')) \n",
        "\n"
      ],
      "metadata": {
        "id": "deZ0nqvqKpWk"
      },
      "execution_count": null,
      "outputs": []
    },
    {
      "cell_type": "code",
      "source": [
        "print_rangoli(10)"
      ],
      "metadata": {
        "colab": {
          "base_uri": "https://localhost:8080/"
        },
        "id": "6SxBN0toYdzI",
        "outputId": "9dd1352b-863c-40ec-98cd-81c48700544e"
      },
      "execution_count": null,
      "outputs": [
        {
          "output_type": "stream",
          "name": "stdout",
          "text": [
            "-------------------j-------------------\n",
            "-----------------j-i-j-----------------\n",
            "---------------j-i-h-i-j---------------\n",
            "-------------j-i-h-g-h-i-j-------------\n",
            "-----------j-i-h-g-f-g-h-i-j-----------\n",
            "---------j-i-h-g-f-e-f-g-h-i-j---------\n",
            "-------j-i-h-g-f-e-d-e-f-g-h-i-j-------\n",
            "-----j-i-h-g-f-e-d-c-d-e-f-g-h-i-j-----\n",
            "---j-i-h-g-f-e-d-c-b-c-d-e-f-g-h-i-j---\n",
            "-j-i-h-g-f-e-d-c-b-a-b-c-d-e-f-g-h-i-j-\n",
            "---j-i-h-g-f-e-d-c-b-c-d-e-f-g-h-i-j---\n",
            "-----j-i-h-g-f-e-d-c-d-e-f-g-h-i-j-----\n",
            "-------j-i-h-g-f-e-d-e-f-g-h-i-j-------\n",
            "---------j-i-h-g-f-e-f-g-h-i-j---------\n",
            "-----------j-i-h-g-f-g-h-i-j-----------\n",
            "-------------j-i-h-g-h-i-j-------------\n",
            "---------------j-i-h-i-j---------------\n",
            "-----------------j-i-j-----------------\n",
            "-------------------j-------------------\n"
          ]
        }
      ]
    },
    {
      "cell_type": "code",
      "source": [
        "def print_rangoli_2(size):\n",
        "    n = size\n",
        "    let = list(map(chr,range(97,123)))\n",
        "    x = let[n-1::-1]+let[1:n]\n",
        "    m = len('-'.join(x))\n",
        "    for i in range(1,n):\n",
        "        print('-'.join(let[n-1:n-i:-1]+let[n-i:n]).center(m,'-'))\n",
        "    for i in range(n,0,-1):\n",
        "        print('-'.join(let[n-1:n-i:-1]+let[n-i:n]).center(m,'-'))"
      ],
      "metadata": {
        "id": "3qGX5hmznnKO"
      },
      "execution_count": null,
      "outputs": []
    },
    {
      "cell_type": "code",
      "source": [
        "print_rangoli_2(3)"
      ],
      "metadata": {
        "colab": {
          "base_uri": "https://localhost:8080/"
        },
        "id": "IU9oUudTlQBH",
        "outputId": "957d2aa8-d48b-446d-85da-6bd699aa7720"
      },
      "execution_count": null,
      "outputs": [
        {
          "output_type": "stream",
          "name": "stdout",
          "text": [
            "----c----\n",
            "--c-b-c--\n",
            "c-b-a-b-c\n",
            "--c-b-c--\n",
            "----c----\n"
          ]
        }
      ]
    },
    {
      "cell_type": "markdown",
      "source": [
        "<h1>Função Capitalize</h1>"
      ],
      "metadata": {
        "id": "y1pZo5nDslef"
      }
    },
    {
      "cell_type": "code",
      "source": [
        "\n",
        "\n",
        "def solve(s):\n",
        "    s =str(s)\n",
        "    s = s.split()\n",
        "    n =  len(s)\n",
        "    for i in range(n):\n",
        "        s[i] = s[i].capitalize()\n",
        "    \n",
        "    s = ' '.join(map(str,s))\n",
        "    \n",
        "    \n",
        "    return s\n",
        "\n",
        "\n"
      ],
      "metadata": {
        "id": "1JWWi38ZoJvw"
      },
      "execution_count": null,
      "outputs": []
    },
    {
      "cell_type": "code",
      "source": [
        "solve('hello   world  lol')"
      ],
      "metadata": {
        "colab": {
          "base_uri": "https://localhost:8080/",
          "height": 35
        },
        "id": "EZWdvaCNsvB3",
        "outputId": "cd32a3b2-c334-4d88-aa59-3e0145b3886a"
      },
      "execution_count": null,
      "outputs": [
        {
          "output_type": "execute_result",
          "data": {
            "text/plain": [
              "'Hello World Lol'"
            ],
            "application/vnd.google.colaboratory.intrinsic+json": {
              "type": "string"
            }
          },
          "metadata": {},
          "execution_count": 22
        }
      ]
    },
    {
      "cell_type": "markdown",
      "source": [
        "<h1> Segundo maior numero dentro d euma lista de elmentos repetidos </h1>"
      ],
      "metadata": {
        "id": "eOXUbX2veOz-"
      }
    },
    {
      "cell_type": "code",
      "source": [
        "\n",
        "n = int(input())\n",
        "arr = map(int, input().split())\n",
        "arr = list(arr)\n",
        "arr.sort(reverse = False)\n",
        "print(arr)"
      ],
      "metadata": {
        "id": "cZXjTD-XtJEo",
        "colab": {
          "base_uri": "https://localhost:8080/"
        },
        "outputId": "c0d3b5e7-522f-405f-86a7-38f2f0f036d5"
      },
      "execution_count": 13,
      "outputs": [
        {
          "output_type": "stream",
          "name": "stdout",
          "text": [
            "5\n",
            "2 3 6 6 5\n",
            "None\n"
          ]
        }
      ]
    },
    {
      "cell_type": "code",
      "source": [
        "type(arr)"
      ],
      "metadata": {
        "colab": {
          "base_uri": "https://localhost:8080/"
        },
        "id": "H-8REMOTbyhV",
        "outputId": "843950ed-40f6-45c6-d2d4-3d6f2a1a7d7e"
      },
      "execution_count": 2,
      "outputs": [
        {
          "output_type": "execute_result",
          "data": {
            "text/plain": [
              "list"
            ]
          },
          "metadata": {},
          "execution_count": 2
        }
      ]
    },
    {
      "cell_type": "code",
      "source": [
        "2 3 6 6 5  5 "
      ],
      "metadata": {
        "id": "hn1piOuvcB2j"
      },
      "execution_count": null,
      "outputs": []
    }
  ]
}